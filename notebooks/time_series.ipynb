{
 "cells": [
  {
   "cell_type": "markdown",
   "metadata": {},
   "source": [
    "# Time Series Analysis\n",
    "\n",
    "Aim: Find insights using the time series with respect to for example:\n",
    "- engagement rate (per post and follower)\n",
    "- follower gain"
   ]
  },
  {
   "cell_type": "code",
   "execution_count": null,
   "metadata": {},
   "outputs": [],
   "source": [
    "import matplotlib.pyplot as plt\n",
    "import scipy\n",
    "from scipy.signal import find_peaks"
   ]
  },
  {
   "cell_type": "code",
   "execution_count": null,
   "metadata": {},
   "outputs": [],
   "source": [
    "df_new = preprocess_data(df) #function from Dave's preprocesing.ipynb"
   ]
  },
  {
   "cell_type": "markdown",
   "metadata": {},
   "source": [
    "---------\n",
    "## Number of Followers"
   ]
  },
  {
   "cell_type": "code",
   "execution_count": null,
   "metadata": {},
   "outputs": [],
   "source": [
    "# Convert 'date' column to datetime\n",
    "df_new['date'] = pd.to_datetime(df_new['date'])\n",
    "\n",
    "# Group by brand\n",
    "grouped = df_new.groupby('brand')\n",
    "\n",
    "# Plot time series for 'followers' for each brand\n",
    "for brand, group in grouped:\n",
    "    plt.plot(group['date'], group['followers'], label=brand)\n",
    "\n",
    "# Add labels and legend\n",
    "plt.xlabel('Week')\n",
    "plt.ylabel('Number of Followers [Normalized]')\n",
    "plt.title('Followers Time Series by Brand')\n",
    "#plt.legend()\n",
    "plt.show()"
   ]
  },
  {
   "cell_type": "code",
   "execution_count": null,
   "metadata": {},
   "outputs": [],
   "source": [
    "# Find the last date for each brand\n",
    "last_dates = df_new.groupby('brand')['date'].max().reset_index()\n",
    "\n",
    "# Merge to get the corresponding rows\n",
    "last_rows = pd.merge(last_dates, df_new, on=['brand', 'date'], how='inner')\n",
    "\n",
    "# Sort the rows by the number of followers in descending order\n",
    "ranked_brands = last_rows.sort_values(by='followers', ascending=False)\n",
    "\n",
    "# Output the sorted DataFrame\n",
    "print(ranked_brands[0:10])"
   ]
  },
  {
   "cell_type": "markdown",
   "metadata": {},
   "source": [
    "------\n",
    "## Engagement Rate (per Post and Follower)"
   ]
  },
  {
   "cell_type": "code",
   "execution_count": null,
   "metadata": {},
   "outputs": [],
   "source": [
    "# Plot time series for 'followers' for each brand\n",
    "for brand, group in grouped:\n",
    "    plt.plot(group['date'], group['engagement_rate_per_post'], label=brand)\n",
    "\n",
    "# Add labels and legend\n",
    "plt.xlabel('Week')\n",
    "plt.ylabel('Engagement Rate per Post and per Follower')\n",
    "plt.title('Engagement Rate Time Series by Brand')\n",
    "#plt.legend()\n",
    "plt.show()"
   ]
  },
  {
   "cell_type": "code",
   "execution_count": null,
   "metadata": {},
   "outputs": [],
   "source": [
    "# Find the last date for each brand\n",
    "last_dates = df_new.groupby('brand')['date'].max().reset_index()\n",
    "\n",
    "# Merge to get the corresponding rows\n",
    "last_rows = pd.merge(last_dates, df_new, on=['brand', 'date'], how='inner')\n",
    "\n",
    "# Sort the rows by the number of followers in descending order\n",
    "ranked_brands = last_rows.sort_values(by='engagement_rate_per_post', ascending=False)\n",
    "\n",
    "# Output the sorted DataFrame\n",
    "print(ranked_brands[0:10])"
   ]
  },
  {
   "cell_type": "code",
   "execution_count": null,
   "metadata": {},
   "outputs": [],
   "source": [
    "# Example time series data (replace this with your actual data)\n",
    "time_series = df_new[df_new['brand'] == 'In-N-Out Burger']['engagement_rate_per_post']\n",
    "\n",
    "# Set the threshold to be 0.1 times the maximum peak height in the time series\n",
    "threshold = 0.3 * time_series.max()\n",
    "# Find peaks\n",
    "peaks, _ = find_peaks(time_series, height=0, prominence=threshold)\n",
    "\n",
    "# Plot the time series\n",
    "plt.plot(time_series.index, time_series.values, label='Time Series')\n",
    "\n",
    "# Plot the peaks\n",
    "plt.plot(time_series.index[peaks], time_series.values[peaks], 'ro', markersize=5, label='Peaks')\n",
    "\n",
    "# Add labels and legend\n",
    "plt.xlabel('Week')\n",
    "plt.ylabel('Engagement Rate')\n",
    "plt.title('Engagement Rate Time Series with Peaks of In-N-Out Burger')\n",
    "plt.legend()\n",
    "plt.show()"
   ]
  }
 ],
 "metadata": {
  "language_info": {
   "name": "python"
  }
 },
 "nbformat": 4,
 "nbformat_minor": 2
}
