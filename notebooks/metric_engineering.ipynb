{
 "cells": [
  {
   "cell_type": "markdown",
   "metadata": {},
   "source": [
    "# Metric Engineering\n",
    "\n",
    "Author: Yi-Yi Ly\\\n",
    "Date: Saturday, April 27th, 2024, 14:50\n",
    "\n",
    "The questions we ask here are:\n",
    "\n",
    "1. **What are possible performance metrics?**\n",
    "2. **How are social media performance metrics related to stock/ market value?**"
   ]
  },
  {
   "cell_type": "markdown",
   "metadata": {},
   "source": [
    "------------------------\n",
    "\n",
    "## Metrics\n",
    "The following are key metrics:\n",
    "1. Engagement\n",
    "- defined as what a user does with the post, i.e. comment and like. \n",
    "- engagement rate: percentage of engagement with respect to audience\n",
    "    - audience is technically *everyone* who views the post, but easier to define: number of followers\n",
    "    \n",
    "2. Reach\n",
    "3. Audience Growth Rate\n",
    "- new followers within a time frame\n",
    "- growing audience implies brand is growing\n",
    "- percentage of total audience\n",
    "    - i.e. growing 100 new followers from 1000 followers (10%) is a bigger deal than adding 100 new followers to 10k followers. \n",
    "\n",
    "\n",
    "Source: https://www.forbes.com/advisor/business/social-media-metrics/"
   ]
  },
  {
   "cell_type": "markdown",
   "metadata": {},
   "source": [
    "### Engagement \n",
    "\n",
    "$engagement= \\sum no. comments + likes$ \n",
    "\n",
    "$engagement rate = \\frac{engagement}{followers}$"
   ]
  },
  {
   "cell_type": "markdown",
   "metadata": {},
   "source": [
    "### Average Engagement Rate per Post\n",
    "\n",
    "$avg = \\frac{engagement rate }{vids + photos}$"
   ]
  },
  {
   "cell_type": "markdown",
   "metadata": {},
   "source": [
    "### Audience Growth Rate\n",
    "\n",
    "$growth rate = \\frac{new followers}{existing}$"
   ]
  },
  {
   "cell_type": "markdown",
   "metadata": {},
   "source": [
    "### Ranking Globally\n",
    "\n",
    "We can rank the brands with respect to its competitors globally according to their metrics.\n",
    "\n",
    "A change of ranks can thus be insightful.\n"
   ]
  }
 ],
 "metadata": {
  "kernelspec": {
   "display_name": "datathon24",
   "language": "python",
   "name": "python3"
  },
  "language_info": {
   "name": "python",
   "version": "3.11.9"
  }
 },
 "nbformat": 4,
 "nbformat_minor": 2
}
