{
 "cells": [
  {
   "cell_type": "markdown",
   "metadata": {},
   "source": [
    "# Baseline: Linear Regression\n",
    "\n",
    "Inputs:\n",
    "\n",
    "Output: \n",
    "\n",
    "Engagement Rater per Follower and per Post \n",
    "\n",
    "\n",
    "\n"
   ]
  },
  {
   "cell_type": "markdown",
   "metadata": {},
   "source": [
    "1. read datafile\n",
    "1. train-test-split\n",
    "1. multivariate linear regression\n",
    "1. predict on test split\n",
    "1. MSE/ accuracy"
   ]
  },
  {
   "cell_type": "markdown",
   "metadata": {},
   "source": [
    "pick one metric:\n",
    "\n",
    "rank companies accordingly\n",
    "\n",
    "and predict if they will change ranking within competitors?"
   ]
  },
  {
   "cell_type": "code",
   "execution_count": null,
   "metadata": {},
   "outputs": [],
   "source": []
  },
  {
   "cell_type": "markdown",
   "metadata": {},
   "source": []
  }
 ],
 "metadata": {
  "kernelspec": {
   "display_name": "datathon24",
   "language": "python",
   "name": "python3"
  },
  "language_info": {
   "name": "python",
   "version": "3.11.9"
  }
 },
 "nbformat": 4,
 "nbformat_minor": 2
}
